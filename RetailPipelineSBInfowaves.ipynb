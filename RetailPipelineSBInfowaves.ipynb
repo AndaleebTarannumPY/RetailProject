{
  "nbformat": 4,
  "nbformat_minor": 0,
  "metadata": {
    "colab": {
      "provenance": [],
      "authorship_tag": "ABX9TyPK74Hun5s9C7r3Gos/VJWX"
    },
    "kernelspec": {
      "name": "python3",
      "display_name": "Python 3"
    },
    "language_info": {
      "name": "python"
    }
  },
  "cells": [
    {
      "cell_type": "markdown",
      "source": [
        "Retail Data Pipeline: Ingest, Process, and Analyze Data\n",
        "In this project, I will build a data pipeline to ingest, process, and analyze transaction data from multiple sources"
      ],
      "metadata": {
        "id": "xJPFrvubdfU0"
      }
    },
    {
      "cell_type": "markdown",
      "source": [
        "1. Ingest Data: Read structured CSV (POS Systems), semi-structured JSON (E-commerce), and unstructured text files (Customer Reviews).\n",
        "2. Store in a Data Lake: Save raw data into local storage (simulating a data lake).\n",
        "3. Transform & Process Data: Clean, normalize, and convert data into a structured SQL table.\n",
        "4. Perform Analysis & Predictions: Run SQL queries and use machine learning for basic sales predictions."
      ],
      "metadata": {
        "id": "JNeENlGZdkEP"
      }
    },
    {
      "cell_type": "markdown",
      "source": [
        "Step 1: Install & Import Required Libraries\n",
        "First, install any necessary Python libraries."
      ],
      "metadata": {
        "id": "jQx_7VmldvmC"
      }
    },
    {
      "cell_type": "code",
      "execution_count": 1,
      "metadata": {
        "id": "uYe8cR__dRyI"
      },
      "outputs": [],
      "source": [
        "import pandas as pd\n",
        "import json\n",
        "import sqlite3\n",
        "import re\n",
        "import os\n",
        "from sklearn.model_selection import train_test_split\n",
        "from sklearn.linear_model import LinearRegression\n",
        "import matplotlib.pyplot as plt"
      ]
    },
    {
      "cell_type": "markdown",
      "source": [
        "Step 2: Load Data from Different Sources\n",
        "I will simulate data ingestion from multiple sources using sample datasets from Kaggle.\n",
        "POS System Data (CSV - Structured)\n",
        "This file contains sales transactions from physical stores.\n",
        "Load CSV file into Pandas DataFram"
      ],
      "metadata": {
        "id": "d6cgUdXod6MD"
      }
    },
    {
      "cell_type": "code",
      "source": [
        "pos_df = pd.read_csv('/content/retail_sales_dataset.csv')\n",
        "print(pos_df.head())"
      ],
      "metadata": {
        "colab": {
          "base_uri": "https://localhost:8080/",
          "height": 0
        },
        "id": "0A-pOUOye2w0",
        "outputId": "d9f77f05-6576-42f6-9be6-27d08d845850"
      },
      "execution_count": 3,
      "outputs": [
        {
          "output_type": "stream",
          "name": "stdout",
          "text": [
            "   Transaction ID        Date Customer ID  Gender  Age Product Category  \\\n",
            "0               1  2023-11-24     CUST001    Male   34           Beauty   \n",
            "1               2  2023-02-27     CUST002  Female   26         Clothing   \n",
            "2               3  2023-01-13     CUST003    Male   50      Electronics   \n",
            "3               4  2023-05-21     CUST004    Male   37         Clothing   \n",
            "4               5  2023-05-06     CUST005    Male   30           Beauty   \n",
            "\n",
            "   Quantity  Price per Unit  Total Amount  \n",
            "0         3              50           150  \n",
            "1         2             500          1000  \n",
            "2         1              30            30  \n",
            "3         1             500           500  \n",
            "4         2              50           100  \n"
          ]
        }
      ]
    },
    {
      "cell_type": "markdown",
      "source": [
        "E-commerce Platform Data (JSON - Semi-Structured)\n",
        "This file contains online transactions in JSON format.\n",
        "Load JSON file into Pandas DataFram"
      ],
      "metadata": {
        "id": "udDdsoyffPTY"
      }
    },
    {
      "cell_type": "code",
      "source": [
        "with open('/content/ecomm.json') as file:\n",
        "    ecommerce_data = json.load(file)"
      ],
      "metadata": {
        "id": "HWuNLDuEgM7w"
      },
      "execution_count": 20,
      "outputs": []
    },
    {
      "cell_type": "code",
      "source": [
        "ecommerce_df = pd.DataFrame(ecommerce_data)\n",
        "print(ecommerce_df.head())\n"
      ],
      "metadata": {
        "colab": {
          "base_uri": "https://localhost:8080/",
          "height": 0
        },
        "id": "eJ-A3YW2hAME",
        "outputId": "0572e2fd-167c-4cf2-88b7-53152f8aed3b"
      },
      "execution_count": 21,
      "outputs": [
        {
          "output_type": "stream",
          "name": "stdout",
          "text": [
            "                              slug                              name  \\\n",
            "0                 Dickens-Franecki                Dickens - Franecki   \n",
            "1  Weissnat-Schowalter-and-Koelpin  Weissnat, Schowalter and Koelpin   \n",
            "2    Cruickshank-Bayer-and-Gerlach    Cruickshank, Bayer and Gerlach   \n",
            "3                        Boyle-LLC                         Boyle LLC   \n",
            "4                     Bernier-Hane                    Bernier - Hane   \n",
            "\n",
            "               address              city state         zip   account  \\\n",
            "0   12158 Randall Port  East Maureenbury    NE       74529  31010023   \n",
            "1    92027 Murphy Cove      Port Malachi    WY  56670-0684  81813543   \n",
            "2  45974 Paxton Corner      Gerlachmouth    OR       67061  43249604   \n",
            "3    54371 Mikel Spurs  South Josephland    SD       49608  75111551   \n",
            "4     45929 Chaya Lane  Hettingerchester    GA  30052-7026  98542630   \n",
            "\n",
            "              contact  \n",
            "0       Lonzo Stracke  \n",
            "1     Kathryne Ernser  \n",
            "2  Bernhard Greenholt  \n",
            "3       Roxanne Walsh  \n",
            "4      Thea Gleichner  \n"
          ]
        }
      ]
    },
    {
      "cell_type": "markdown",
      "source": [
        "Customer Reviews Data (Unstructured Text)\n",
        "This file contains customer feedback as tex"
      ],
      "metadata": {
        "id": "8th37A97khSm"
      }
    },
    {
      "cell_type": "code",
      "source": [
        "# Simulated Text File (Customer Reviews)\n",
        "with open('/content/customer_reviews.txt', 'r') as file:\n",
        "    reviews = file.readlines()"
      ],
      "metadata": {
        "id": "ba8LFZMRkgJr"
      },
      "execution_count": 22,
      "outputs": []
    },
    {
      "cell_type": "code",
      "source": [
        "extracted_info = []\n",
        "for review in reviews:\n",
        "    # Example: Extract review sentiment (positive/negative)\n",
        "    # Replace this with your actual logic\n",
        "    if \"good\" in review.lower() or \"great\" in review.lower() or \"excellent\" in review.lower():\n",
        "      sentiment = \"positive\"\n",
        "    elif \"bad\" in review.lower() or \"poor\" in review.lower() or \"terrible\" in review.lower():\n",
        "      sentiment = \"negative\"\n",
        "    else:\n",
        "      sentiment = \"neutral\" # Default to neutral\n",
        "    extracted_info.append({\"review\": review.strip(), \"sentiment\": sentiment})\n",
        "\n",
        "# Convert the extracted information into a DataFrame (optional)\n",
        "extracted_df = pd.DataFrame(extracted_info)\n",
        "print(extracted_df.head())\n"
      ],
      "metadata": {
        "colab": {
          "base_uri": "https://localhost:8080/",
          "height": 0
        },
        "id": "4Y8xtb_LmET8",
        "outputId": "0f833fa7-4b57-4a04-e0ac-ae9484b84401"
      },
      "execution_count": 27,
      "outputs": [
        {
          "output_type": "stream",
          "name": "stdout",
          "text": [
            "                                              review sentiment\n",
            "0  Perhaps good product, but really poor service....  positive\n",
            "1  Been going here for specialty boat items for 1...  negative\n",
            "2  This place was a joke we rented 1 jet ski and ...  positive\n",
            "3  We were out at the lake this weekend boating a...   neutral\n",
            "4  JET ACTION RENTALS destroyed my view on small ...  positive\n"
          ]
        }
      ]
    },
    {
      "cell_type": "markdown",
      "source": [
        "Step 3: Store Raw Data in a Data Lake\n",
        "To simulate a data lake, I will save the raw files into a local directory."
      ],
      "metadata": {
        "id": "bYq27u3EmVYI"
      }
    },
    {
      "cell_type": "code",
      "source": [
        "# Create the \"datalake\" directory if it doesn't exist\n",
        "datalake_dir = \"datalake\"\n",
        "if not os.path.exists(datalake_dir):\n",
        "    os.makedirs(datalake_dir)\n",
        "\n",
        "# Save the dataframes to the datalake directory\n",
        "pos_df.to_csv(os.path.join(datalake_dir, \"pos_data.csv\"), index=False)\n",
        "ecommerce_df.to_json(os.path.join(datalake_dir, \"ecommerce_data.json\"), orient=\"records\")\n",
        "\n",
        "# Save customer reviews to text file\n",
        "with open(os.path.join(datalake_dir, \"customer_reviews.txt\"), \"w\") as f:\n",
        "  for item in extracted_info:\n",
        "    f.write(json.dumps(item) + \"\\n\")\n"
      ],
      "metadata": {
        "id": "Wcl_ZYfNmQkP"
      },
      "execution_count": 28,
      "outputs": []
    },
    {
      "cell_type": "markdown",
      "source": [
        "Step 4: Data Cleaning and Transformation\n",
        "Now, I will merge and normalize all data into a structured format.\n",
        "Merge POS and E-commerce Transactions"
      ],
      "metadata": {
        "id": "GCQeJRU4mmxO"
      }
    },
    {
      "cell_type": "code",
      "source": [
        "def standardize_column_names(df):\n",
        "    \"\"\"Standardizes column names to lowercase and replaces spaces with underscores.\"\"\"\n",
        "    df.columns = [col.lower().replace(' ', '_') for col in df.columns]\n",
        "    return df\n",
        "\n",
        "pos_df = standardize_column_names(pos_df)\n",
        "ecommerce_df = standardize_column_names(ecommerce_df)\n",
        "\n",
        "# Example usage (you'd apply this to other DataFrames as needed):\n",
        "print(pos_df.columns)\n",
        "ecommerce_df.columns\n"
      ],
      "metadata": {
        "colab": {
          "base_uri": "https://localhost:8080/",
          "height": 0
        },
        "id": "w12sLi23mh5l",
        "outputId": "a42f738e-1788-4147-fd5c-ce55dd67a639"
      },
      "execution_count": 30,
      "outputs": [
        {
          "output_type": "stream",
          "name": "stdout",
          "text": [
            "Index(['transaction_id', 'date', 'customer_id', 'gender', 'age',\n",
            "       'product_category', 'quantity', 'price_per_unit', 'total_amount'],\n",
            "      dtype='object')\n"
          ]
        },
        {
          "output_type": "execute_result",
          "data": {
            "text/plain": [
              "Index(['slug', 'name', 'address', 'city', 'state', 'zip', 'account',\n",
              "       'contact'],\n",
              "      dtype='object')"
            ]
          },
          "metadata": {},
          "execution_count": 30
        }
      ]
    },
    {
      "cell_type": "code",
      "source": [
        "try:\n",
        "    combined_df = pd.merge(pos_df, ecommerce_df, on='order_id', how='outer')\n",
        "except KeyError:\n",
        "    print(\"Error: 'order_id' column not found in both DataFrames. Please check column names or provide a common identifier.\")\n",
        "    # Handle the error gracefully (e.g., use a different column or skip the merge)\n",
        "    combined_df = pd.concat([pos_df, ecommerce_df], axis=0) # fallback to concatenation\n",
        "\n",
        "#Example: Fill missing values in numeric columns with the mean\n",
        "numeric_cols = combined_df.select_dtypes(include=['number']).columns\n",
        "combined_df[numeric_cols] = combined_df[numeric_cols].fillna(combined_df[numeric_cols].mean())\n",
        "\n",
        "# Convert object columns (strings) to categorical\n",
        "categorical_cols = combined_df.select_dtypes(include=['object']).columns\n",
        "for col in categorical_cols:\n",
        "  combined_df[col] = combined_df[col].astype('category')\n",
        "\n",
        "# Display the first few rows of the combined DataFrame\n",
        "print(combined_df.head())\n"
      ],
      "metadata": {
        "colab": {
          "base_uri": "https://localhost:8080/",
          "height": 0
        },
        "id": "7ABPfihBm9w-",
        "outputId": "f1d07e4b-8d04-45f1-88cb-6161b728d747"
      },
      "execution_count": 31,
      "outputs": [
        {
          "output_type": "stream",
          "name": "stdout",
          "text": [
            "Error: 'order_id' column not found in both DataFrames. Please check column names or provide a common identifier.\n",
            "   transaction_id        date customer_id  gender   age product_category  \\\n",
            "0             1.0  2023-11-24     CUST001    Male  34.0           Beauty   \n",
            "1             2.0  2023-02-27     CUST002  Female  26.0         Clothing   \n",
            "2             3.0  2023-01-13     CUST003    Male  50.0      Electronics   \n",
            "3             4.0  2023-05-21     CUST004    Male  37.0         Clothing   \n",
            "4             5.0  2023-05-06     CUST005    Male  30.0           Beauty   \n",
            "\n",
            "   quantity  price_per_unit  total_amount slug name address city state  zip  \\\n",
            "0       3.0            50.0         150.0  NaN  NaN     NaN  NaN   NaN  NaN   \n",
            "1       2.0           500.0        1000.0  NaN  NaN     NaN  NaN   NaN  NaN   \n",
            "2       1.0            30.0          30.0  NaN  NaN     NaN  NaN   NaN  NaN   \n",
            "3       1.0           500.0         500.0  NaN  NaN     NaN  NaN   NaN  NaN   \n",
            "4       2.0            50.0         100.0  NaN  NaN     NaN  NaN   NaN  NaN   \n",
            "\n",
            "        account contact  \n",
            "0  4.827043e+07     NaN  \n",
            "1  4.827043e+07     NaN  \n",
            "2  4.827043e+07     NaN  \n",
            "3  4.827043e+07     NaN  \n",
            "4  4.827043e+07     NaN  \n"
          ]
        }
      ]
    },
    {
      "cell_type": "code",
      "source": [
        "#Normalize Customer Reviews\n",
        "\n",
        "import re\n",
        "\n",
        "def normalize_text(text):\n",
        "    # Lowercase the text\n",
        "    text = text.lower()\n",
        "    # Remove punctuation\n",
        "    text = re.sub(r'[^\\w\\s]', '', text)\n",
        "    # Remove extra whitespace\n",
        "    text = re.sub(r'\\s+', ' ', text).strip()\n",
        "    return text\n",
        "\n",
        "# Apply the normalization function to the 'review' column\n",
        "extracted_df['normalized_review'] = extracted_df['review'].apply(normalize_text)\n",
        "\n",
        "print(extracted_df.head())\n"
      ],
      "metadata": {
        "colab": {
          "base_uri": "https://localhost:8080/",
          "height": 0
        },
        "id": "YvuvFgI4nJMr",
        "outputId": "08b11481-0f44-406a-95ff-b363d8ea83cf"
      },
      "execution_count": 32,
      "outputs": [
        {
          "output_type": "stream",
          "name": "stdout",
          "text": [
            "                                              review sentiment  \\\n",
            "0  Perhaps good product, but really poor service....  positive   \n",
            "1  Been going here for specialty boat items for 1...  negative   \n",
            "2  This place was a joke we rented 1 jet ski and ...  positive   \n",
            "3  We were out at the lake this weekend boating a...   neutral   \n",
            "4  JET ACTION RENTALS destroyed my view on small ...  positive   \n",
            "\n",
            "                                   normalized_review  \n",
            "0  perhaps good product but really poor service m...  \n",
            "1  been going here for specialty boat items for 1...  \n",
            "2  this place was a joke we rented 1 jet ski and ...  \n",
            "3  we were out at the lake this weekend boating a...  \n",
            "4  jet action rentals destroyed my view on small ...  \n"
          ]
        }
      ]
    },
    {
      "cell_type": "code",
      "source": [
        "# Merge reviews into the transactions table\n",
        "try:\n",
        "    merged_df = pd.merge(combined_df, extracted_df, left_on='order_id', right_index=True, how='left')\n",
        "except KeyError:\n",
        "    print(\"Error: 'order_id' column not found in combined_df. Please check column names or provide a common identifier.\")\n",
        "    merged_df = combined_df # fallback in case of error\n",
        "\n",
        "# Display the first few rows of the merged DataFrame\n",
        "print(merged_df.head())\n"
      ],
      "metadata": {
        "colab": {
          "base_uri": "https://localhost:8080/",
          "height": 0
        },
        "id": "bIqvD4R9nRFd",
        "outputId": "4b62a743-a2fe-4cb0-93e8-0a987acf11e7"
      },
      "execution_count": 33,
      "outputs": [
        {
          "output_type": "stream",
          "name": "stdout",
          "text": [
            "Error: 'order_id' column not found in combined_df. Please check column names or provide a common identifier.\n",
            "   transaction_id        date customer_id  gender   age product_category  \\\n",
            "0             1.0  2023-11-24     CUST001    Male  34.0           Beauty   \n",
            "1             2.0  2023-02-27     CUST002  Female  26.0         Clothing   \n",
            "2             3.0  2023-01-13     CUST003    Male  50.0      Electronics   \n",
            "3             4.0  2023-05-21     CUST004    Male  37.0         Clothing   \n",
            "4             5.0  2023-05-06     CUST005    Male  30.0           Beauty   \n",
            "\n",
            "   quantity  price_per_unit  total_amount slug name address city state  zip  \\\n",
            "0       3.0            50.0         150.0  NaN  NaN     NaN  NaN   NaN  NaN   \n",
            "1       2.0           500.0        1000.0  NaN  NaN     NaN  NaN   NaN  NaN   \n",
            "2       1.0            30.0          30.0  NaN  NaN     NaN  NaN   NaN  NaN   \n",
            "3       1.0           500.0         500.0  NaN  NaN     NaN  NaN   NaN  NaN   \n",
            "4       2.0            50.0         100.0  NaN  NaN     NaN  NaN   NaN  NaN   \n",
            "\n",
            "        account contact  \n",
            "0  4.827043e+07     NaN  \n",
            "1  4.827043e+07     NaN  \n",
            "2  4.827043e+07     NaN  \n",
            "3  4.827043e+07     NaN  \n",
            "4  4.827043e+07     NaN  \n"
          ]
        }
      ]
    },
    {
      "cell_type": "markdown",
      "source": [
        "Step 5: Load Processed Data into SQLite Database\n",
        "I will store the cleaned data in an SQLite database for querying"
      ],
      "metadata": {
        "id": "NQxjI_2Mp63p"
      }
    },
    {
      "cell_type": "code",
      "source": [
        "# Create a connection to the SQLite database (or create it if it doesn't exist)\n",
        "conn = sqlite3.connect('retail_data.db')\n",
        "# Write the DataFrame to an SQLite table named 'transactions'\n",
        "merged_df.to_sql('transactions', conn, if_exists='replace', index=False)\n",
        "# Close the database connection\n",
        "conn.close()\n"
      ],
      "metadata": {
        "id": "6V-_cPV9qAG3"
      },
      "execution_count": 77,
      "outputs": []
    },
    {
      "cell_type": "markdown",
      "source": [
        "Step 6: Query the Data using SQL\n",
        "Now, I will run SQL queries for analytics"
      ],
      "metadata": {
        "id": "wWOLoSY6qka-"
      }
    },
    {
      "cell_type": "code",
      "source": [
        "import sqlite3\n",
        "\n",
        "conn = sqlite3.connect('retail_data.db')\n",
        "cursor = conn.cursor()\n",
        "\n",
        "# Query to find the top 5 selling product categories\n",
        "query = \"\"\"\n",
        "SELECT product_category, SUM(quantity) AS total_quantity_sold\n",
        "FROM transactions\n",
        "GROUP BY product_category\n",
        "ORDER BY total_quantity_sold DESC\n",
        "LIMIT 5;\n",
        "\"\"\"\n",
        "\n",
        "cursor.execute(query)\n",
        "top_categories = cursor.fetchall()\n",
        "\n",
        "print(\"Top 5 Selling Product Categories:\")\n",
        "for category, quantity in top_categories:\n",
        "    print(f\"{category}: {quantity}\")\n",
        "\n",
        "conn.close()\n"
      ],
      "metadata": {
        "colab": {
          "base_uri": "https://localhost:8080/",
          "height": 0
        },
        "id": "YF4zQ4wRqeWf",
        "outputId": "6e45f70e-1e54-4fb0-cc06-e96a8a9a23b5"
      },
      "execution_count": 78,
      "outputs": [
        {
          "output_type": "stream",
          "name": "stdout",
          "text": [
            "Top 5 Selling Product Categories:\n",
            "Clothing: 949.3080000000002\n",
            "Electronics: 849.0\n",
            "Beauty: 771.0\n"
          ]
        }
      ]
    },
    {
      "cell_type": "markdown",
      "source": [
        "Step 7: Predict Future Sales Using Machine Learning\n",
        "I will now train a Linear Regression model to predict sales."
      ],
      "metadata": {
        "id": "J-pKn5JQrHwR"
      }
    },
    {
      "cell_type": "code",
      "source": [
        "# Aggregate sales by date\n",
        "conn = sqlite3.connect('retail_data.db')\n",
        "cursor = conn.cursor()\n",
        "\n",
        "query = \"\"\"\n",
        "SELECT date, SUM(quantity) AS total_sales\n",
        "FROM transactions\n",
        "GROUP BY date\n",
        "ORDER BY date;\n",
        "\"\"\"\n",
        "\n",
        "cursor.execute(query)\n",
        "sales_by_date = cursor.fetchall()\n",
        "\n",
        "print(\"Sales aggregated by date:\")\n",
        "for date, sales in sales_by_date:\n",
        "    print(f\"{date}: {sales}\")\n",
        "\n",
        "conn.close()\n"
      ],
      "metadata": {
        "colab": {
          "base_uri": "https://localhost:8080/",
          "height": 0
        },
        "id": "R5IvUSaMrDMr",
        "outputId": "307076ec-e617-4631-e721-4ec48577dcca"
      },
      "execution_count": 79,
      "outputs": [
        {
          "output_type": "stream",
          "name": "stdout",
          "text": [
            "Sales aggregated by date:\n",
            "2023-01-01: 10.0\n",
            "2023-01-02: 10.0\n",
            "2023-01-03: 2.0\n",
            "2023-01-04: 8.0\n",
            "2023-01-05: 5.0\n",
            "2023-01-06: 5.0\n",
            "2023-01-07: 6.0\n",
            "2023-01-08: 3.0\n",
            "2023-01-09: 4.0\n",
            "2023-01-10: 5.0\n",
            "2023-01-11: 10.0\n",
            "2023-01-13: 11.0\n",
            "2023-01-14: 10.0\n",
            "2023-01-15: 7.0\n",
            "2023-01-16: 8.0\n",
            "2023-01-17: 8.0\n",
            "2023-01-19: 1.0\n",
            "2023-01-20: 4.0\n",
            "2023-01-21: 7.0\n",
            "2023-01-22: 2.0\n",
            "2023-01-23: 10.0\n",
            "2023-01-24: 11.0\n",
            "2023-01-25: 1.0\n",
            "2023-01-26: 11.0\n",
            "2023-01-27: 9.0\n",
            "2023-01-28: 7.0\n",
            "2023-01-29: 2.0\n",
            "2023-01-30: 9.0\n",
            "2023-01-31: 9.0\n",
            "2023-02-01: 11.0\n",
            "2023-02-02: 8.0\n",
            "2023-02-03: 5.0\n",
            "2023-02-04: 6.0\n",
            "2023-02-05: 20.0\n",
            "2023-02-06: 8.0\n",
            "2023-02-07: 10.0\n",
            "2023-02-08: 13.0\n",
            "2023-02-09: 2.0\n",
            "2023-02-10: 6.0\n",
            "2023-02-11: 12.0\n",
            "2023-02-12: 1.0\n",
            "2023-02-13: 11.0\n",
            "2023-02-14: 3.0\n",
            "2023-02-16: 3.0\n",
            "2023-02-17: 21.0\n",
            "2023-02-18: 2.0\n",
            "2023-02-19: 5.0\n",
            "2023-02-20: 7.0\n",
            "2023-02-21: 4.0\n",
            "2023-02-22: 12.0\n",
            "2023-02-23: 1.0\n",
            "2023-02-24: 12.0\n",
            "2023-02-25: 9.0\n",
            "2023-02-26: 2.0\n",
            "2023-02-27: 9.0\n",
            "2023-02-28: 11.0\n",
            "2023-03-01: 7.0\n",
            "2023-03-02: 1.0\n",
            "2023-03-03: 15.0\n",
            "2023-03-04: 2.0\n",
            "2023-03-05: 5.0\n",
            "2023-03-06: 14.0\n",
            "2023-03-07: 12.0\n",
            "2023-03-08: 1.0\n",
            "2023-03-09: 11.0\n",
            "2023-03-10: 4.0\n",
            "2023-03-11: 1.0\n",
            "2023-03-12: 2.0\n",
            "2023-03-13: 9.0\n",
            "2023-03-15: 2.0\n",
            "2023-03-17: 10.0\n",
            "2023-03-18: 7.0\n",
            "2023-03-19: 3.0\n",
            "2023-03-20: 16.0\n",
            "2023-03-21: 13.0\n",
            "2023-03-22: 11.0\n",
            "2023-03-23: 12.0\n",
            "2023-03-24: 5.0\n",
            "2023-03-25: 6.0\n",
            "2023-03-26: 10.0\n",
            "2023-03-27: 4.0\n",
            "2023-03-28: 2.0\n",
            "2023-03-29: 1.0\n",
            "2023-03-30: 4.0\n",
            "2023-03-31: 4.0\n",
            "2023-04-01: 12.0\n",
            "2023-04-02: 11.0\n",
            "2023-04-04: 7.0\n",
            "2023-04-05: 7.0\n",
            "2023-04-06: 4.0\n",
            "2023-04-08: 15.0\n",
            "2023-04-09: 13.0\n",
            "2023-04-10: 2.0\n",
            "2023-04-11: 2.0\n",
            "2023-04-12: 13.0\n",
            "2023-04-13: 8.0\n",
            "2023-04-15: 5.0\n",
            "2023-04-16: 1.0\n",
            "2023-04-17: 1.0\n",
            "2023-04-18: 9.0\n",
            "2023-04-19: 15.0\n",
            "2023-04-20: 14.0\n",
            "2023-04-21: 5.0\n",
            "2023-04-22: 9.0\n",
            "2023-04-23: 15.0\n",
            "2023-04-24: 6.0\n",
            "2023-04-25: 4.0\n",
            "2023-04-26: 9.0\n",
            "2023-04-27: 9.0\n",
            "2023-04-28: 5.0\n",
            "2023-04-29: 7.0\n",
            "2023-04-30: 6.0\n",
            "2023-05-01: 4.0\n",
            "2023-05-02: 5.0\n",
            "2023-05-03: 11.0\n",
            "2023-05-04: 7.0\n",
            "2023-05-05: 9.0\n",
            "2023-05-06: 11.0\n",
            "2023-05-07: 12.0\n",
            "2023-05-08: 15.0\n",
            "2023-05-09: 7.0\n",
            "2023-05-10: 8.0\n",
            "2023-05-11: 1.0\n",
            "2023-05-12: 4.0\n",
            "2023-05-13: 6.0\n",
            "2023-05-14: 4.0\n",
            "2023-05-15: 9.0\n",
            "2023-05-16: 81.308\n",
            "2023-05-17: 7.0\n",
            "2023-05-18: 2.0\n",
            "2023-05-19: 5.0\n",
            "2023-05-20: 7.0\n",
            "2023-05-21: 7.0\n",
            "2023-05-22: 14.0\n",
            "2023-05-23: 29.0\n",
            "2023-05-24: 2.0\n",
            "2023-05-25: 6.0\n",
            "2023-05-26: 9.0\n",
            "2023-05-27: 9.0\n",
            "2023-05-28: 3.0\n",
            "2023-05-29: 4.0\n",
            "2023-05-30: 5.0\n",
            "2023-05-31: 11.0\n",
            "2023-06-01: 5.0\n",
            "2023-06-02: 6.0\n",
            "2023-06-03: 3.0\n",
            "2023-06-04: 6.0\n",
            "2023-06-05: 3.0\n",
            "2023-06-06: 11.0\n",
            "2023-06-07: 3.0\n",
            "2023-06-08: 5.0\n",
            "2023-06-09: 11.0\n",
            "2023-06-10: 11.0\n",
            "2023-06-11: 12.0\n",
            "2023-06-12: 2.0\n",
            "2023-06-13: 1.0\n",
            "2023-06-14: 3.0\n",
            "2023-06-15: 6.0\n",
            "2023-06-16: 5.0\n",
            "2023-06-17: 9.0\n",
            "2023-06-18: 3.0\n",
            "2023-06-19: 16.0\n",
            "2023-06-20: 7.0\n",
            "2023-06-21: 7.0\n",
            "2023-06-22: 11.0\n",
            "2023-06-23: 5.0\n",
            "2023-06-24: 19.0\n",
            "2023-06-25: 3.0\n",
            "2023-06-26: 8.0\n",
            "2023-06-27: 3.0\n",
            "2023-06-28: 1.0\n",
            "2023-06-29: 9.0\n",
            "2023-06-30: 3.0\n",
            "2023-07-01: 12.0\n",
            "2023-07-03: 5.0\n",
            "2023-07-04: 1.0\n",
            "2023-07-05: 7.0\n",
            "2023-07-06: 10.0\n",
            "2023-07-08: 6.0\n",
            "2023-07-09: 10.0\n",
            "2023-07-11: 4.0\n",
            "2023-07-12: 1.0\n",
            "2023-07-13: 2.0\n",
            "2023-07-14: 26.0\n",
            "2023-07-15: 6.0\n",
            "2023-07-16: 7.0\n",
            "2023-07-17: 4.0\n",
            "2023-07-19: 10.0\n",
            "2023-07-21: 2.0\n",
            "2023-07-22: 5.0\n",
            "2023-07-23: 4.0\n",
            "2023-07-24: 13.0\n",
            "2023-07-25: 4.0\n",
            "2023-07-26: 5.0\n",
            "2023-07-27: 6.0\n",
            "2023-07-28: 12.0\n",
            "2023-07-29: 4.0\n",
            "2023-07-30: 7.0\n",
            "2023-07-31: 3.0\n",
            "2023-08-01: 7.0\n",
            "2023-08-02: 2.0\n",
            "2023-08-03: 4.0\n",
            "2023-08-04: 7.0\n",
            "2023-08-05: 17.0\n",
            "2023-08-06: 5.0\n",
            "2023-08-07: 7.0\n",
            "2023-08-08: 9.0\n",
            "2023-08-09: 11.0\n",
            "2023-08-10: 4.0\n",
            "2023-08-11: 8.0\n",
            "2023-08-12: 11.0\n",
            "2023-08-13: 5.0\n",
            "2023-08-14: 5.0\n",
            "2023-08-15: 13.0\n",
            "2023-08-17: 3.0\n",
            "2023-08-18: 8.0\n",
            "2023-08-19: 8.0\n",
            "2023-08-20: 3.0\n",
            "2023-08-21: 11.0\n",
            "2023-08-22: 7.0\n",
            "2023-08-23: 6.0\n",
            "2023-08-24: 8.0\n",
            "2023-08-25: 11.0\n",
            "2023-08-26: 5.0\n",
            "2023-08-27: 11.0\n",
            "2023-08-28: 9.0\n",
            "2023-08-29: 8.0\n",
            "2023-08-31: 14.0\n",
            "2023-09-01: 8.0\n",
            "2023-09-02: 10.0\n",
            "2023-09-03: 1.0\n",
            "2023-09-04: 2.0\n",
            "2023-09-05: 2.0\n",
            "2023-09-06: 18.0\n",
            "2023-09-07: 10.0\n",
            "2023-09-08: 10.0\n",
            "2023-09-09: 5.0\n",
            "2023-09-10: 4.0\n",
            "2023-09-11: 8.0\n",
            "2023-09-13: 2.0\n",
            "2023-09-14: 4.0\n",
            "2023-09-15: 3.0\n",
            "2023-09-16: 10.0\n",
            "2023-09-17: 10.0\n",
            "2023-09-18: 10.0\n",
            "2023-09-19: 6.0\n",
            "2023-09-21: 4.0\n",
            "2023-09-22: 4.0\n",
            "2023-09-23: 2.0\n",
            "2023-09-24: 4.0\n",
            "2023-09-25: 8.0\n",
            "2023-09-26: 2.0\n",
            "2023-09-28: 4.0\n",
            "2023-09-29: 12.0\n",
            "2023-09-30: 7.0\n",
            "2023-10-01: 6.0\n",
            "2023-10-02: 15.0\n",
            "2023-10-03: 17.0\n",
            "2023-10-04: 17.0\n",
            "2023-10-05: 2.0\n",
            "2023-10-06: 3.0\n",
            "2023-10-07: 12.0\n",
            "2023-10-08: 5.0\n",
            "2023-10-09: 7.0\n",
            "2023-10-10: 14.0\n",
            "2023-10-11: 16.0\n",
            "2023-10-12: 5.0\n",
            "2023-10-13: 9.0\n",
            "2023-10-14: 3.0\n",
            "2023-10-15: 10.0\n",
            "2023-10-16: 13.0\n",
            "2023-10-17: 7.0\n",
            "2023-10-18: 5.0\n",
            "2023-10-19: 8.0\n",
            "2023-10-20: 1.0\n",
            "2023-10-21: 1.0\n",
            "2023-10-22: 6.0\n",
            "2023-10-23: 9.0\n",
            "2023-10-24: 10.0\n",
            "2023-10-25: 7.0\n",
            "2023-10-26: 6.0\n",
            "2023-10-27: 10.0\n",
            "2023-10-29: 15.0\n",
            "2023-10-30: 3.0\n",
            "2023-10-31: 10.0\n",
            "2023-11-01: 10.0\n",
            "2023-11-02: 16.0\n",
            "2023-11-03: 4.0\n",
            "2023-11-04: 1.0\n",
            "2023-11-05: 6.0\n",
            "2023-11-06: 7.0\n",
            "2023-11-07: 10.0\n",
            "2023-11-08: 7.0\n",
            "2023-11-09: 11.0\n",
            "2023-11-10: 4.0\n",
            "2023-11-12: 6.0\n",
            "2023-11-13: 5.0\n",
            "2023-11-14: 9.0\n",
            "2023-11-15: 8.0\n",
            "2023-11-16: 3.0\n",
            "2023-11-17: 13.0\n",
            "2023-11-18: 7.0\n",
            "2023-11-19: 6.0\n",
            "2023-11-20: 2.0\n",
            "2023-11-21: 7.0\n",
            "2023-11-22: 10.0\n",
            "2023-11-23: 8.0\n",
            "2023-11-24: 8.0\n",
            "2023-11-25: 6.0\n",
            "2023-11-26: 7.0\n",
            "2023-11-27: 8.0\n",
            "2023-11-28: 4.0\n",
            "2023-11-29: 5.0\n",
            "2023-11-30: 7.0\n",
            "2023-12-01: 4.0\n",
            "2023-12-02: 7.0\n",
            "2023-12-03: 2.0\n",
            "2023-12-04: 8.0\n",
            "2023-12-05: 16.0\n",
            "2023-12-06: 11.0\n",
            "2023-12-07: 4.0\n",
            "2023-12-08: 8.0\n",
            "2023-12-09: 14.0\n",
            "2023-12-10: 10.0\n",
            "2023-12-11: 4.0\n",
            "2023-12-12: 4.0\n",
            "2023-12-13: 7.0\n",
            "2023-12-14: 4.0\n",
            "2023-12-15: 5.0\n",
            "2023-12-16: 5.0\n",
            "2023-12-17: 5.0\n",
            "2023-12-18: 8.0\n",
            "2023-12-19: 7.0\n",
            "2023-12-20: 13.0\n",
            "2023-12-21: 1.0\n",
            "2023-12-22: 2.0\n",
            "2023-12-23: 11.0\n",
            "2023-12-24: 4.0\n",
            "2023-12-25: 4.0\n",
            "2023-12-26: 13.0\n",
            "2023-12-27: 4.0\n",
            "2023-12-28: 7.0\n",
            "2023-12-29: 13.0\n",
            "2023-12-31: 2.0\n",
            "2024-01-01: 4.0\n"
          ]
        }
      ]
    },
    {
      "cell_type": "code",
      "source": [
        "import pandas as pd\n",
        "# Convert sales_by_date to DataFrame\n",
        "sales_df = pd.DataFrame(sales_by_date, columns=['date', 'quantity'])\n",
        "\n",
        "# Convert 'date' column to datetime objects\n",
        "sales_df['date'] = pd.to_datetime(sales_df['date'])\n",
        "\n",
        "# Create numerical representation of date (e.g., number of days since a reference date)\n",
        "reference_date = sales_df['date'].min()  # Use the earliest date as the reference\n",
        "sales_df['days_since_reference'] = (sales_df['date'] - reference_date).dt.days\n",
        "\n",
        "print(sales_df.head())\n"
      ],
      "metadata": {
        "colab": {
          "base_uri": "https://localhost:8080/",
          "height": 0
        },
        "id": "-WfkKuHVrzHa",
        "outputId": "9845a56a-e1c8-47d6-db9e-474e2570265d"
      },
      "execution_count": 80,
      "outputs": [
        {
          "output_type": "stream",
          "name": "stdout",
          "text": [
            "        date  quantity  days_since_reference\n",
            "0 2023-01-01      10.0                     0\n",
            "1 2023-01-02      10.0                     1\n",
            "2 2023-01-03       2.0                     2\n",
            "3 2023-01-04       8.0                     3\n",
            "4 2023-01-05       5.0                     4\n"
          ]
        }
      ]
    },
    {
      "cell_type": "code",
      "source": [
        "\n",
        "import pandas as pd\n",
        "import sqlite3\n",
        "# Connect to the SQLite database\n",
        "conn = sqlite3.connect('retail_data.db')\n",
        "# Load the transactions table into a pandas DataFrame\n",
        "df = pd.read_sql_query(\"SELECT * FROM transactions\", conn)\n",
        "# Drop rows with any missing values\n",
        "df = df.dropna()\n",
        "# Replace 'retail_data_cleaned.db' with your desired output database file name\n",
        "conn_cleaned = sqlite3.connect('retail_data_cleaned.db')\n",
        "df.to_sql('transactions', conn_cleaned, if_exists='replace', index=False)\n",
        "\n",
        "conn.close()\n",
        "conn_cleaned.close()\n"
      ],
      "metadata": {
        "id": "QpUXwOW0s9Ur"
      },
      "execution_count": 83,
      "outputs": []
    },
    {
      "cell_type": "code",
      "source": [
        "# Split the data into training and testing sets\n",
        "X = sales_df[['days_since_reference']]\n",
        "y = sales_df['quantity']\n",
        "X_train, X_test, y_train, y_test = train_test_split(X, y, test_size=0.2, random_state=42)\n",
        "\n",
        "# Train a Linear Regression model\n",
        "model = LinearRegression()\n",
        "model.fit(X_train, y_train)\n",
        "\n",
        "# Make predictions on the test set\n",
        "y_pred = model.predict(X_test)\n",
        "\n",
        "# Evaluate the model (example: R-squared)\n",
        "r2 = model.score(X_test, y_test)\n",
        "print(f\"R-squared: {r2}\")\n",
        "\n",
        "# Visualize predictions vs actual sales\n",
        "plt.scatter(X_test, y_test, color='blue', label='Actual Sales')\n",
        "plt.plot(X_test, y_pred, color='red', label='Predicted Sales')\n",
        "plt.xlabel('Days Since Reference')\n",
        "plt.ylabel('Total Sales')\n",
        "plt.title('Sales Prediction')\n",
        "plt.legend()\n",
        "plt.show()\n"
      ],
      "metadata": {
        "colab": {
          "base_uri": "https://localhost:8080/",
          "height": 489
        },
        "id": "FW82oMbHuQ_d",
        "outputId": "ac2d8635-60e0-4c34-c88d-12a566dece7e"
      },
      "execution_count": 84,
      "outputs": [
        {
          "output_type": "stream",
          "name": "stdout",
          "text": [
            "R-squared: -0.0031652675584492584\n"
          ]
        },
        {
          "output_type": "display_data",
          "data": {
            "text/plain": [
              "<Figure size 640x480 with 1 Axes>"
            ],
            "image/png": "[encoded data removed]"
          },
          "metadata": {}
        }
      ]
    },
    {
      "cell_type": "code",
      "source": [
        "import sqlite3\n",
        "import pandas as pd\n",
        "\n",
        "conn = sqlite3.connect('/content/retail_data_cleaned.db')\n",
        "df = pd.read_sql_query(\"SELECT * FROM transactions\", conn)\n",
        "conn.close()\n",
        "\n",
        "# Assuming 'date' column exists and is in a suitable format\n",
        "df['date'] = pd.to_datetime(df['date'])\n",
        "\n",
        "reference_date = df['date'].min()\n",
        "df['days_since_reference'] = (df['date'] - reference_date).dt.days\n",
        "\n",
        "conn = sqlite3.connect('/content/retail_data_cleaned.db')\n",
        "df.to_sql('transactions', conn, if_exists='replace', index=False)\n",
        "conn.close()\n"
      ],
      "metadata": {
        "id": "Locmyp_pxA1m"
      },
      "execution_count": 91,
      "outputs": []
    },
    {
      "cell_type": "code",
      "source": [
        "\n",
        "!pip install xgboost\n",
        "\n",
        "import pandas as pd\n",
        "import sqlite3\n",
        "from sklearn.model_selection import train_test_split\n",
        "from xgboost import XGBRegressor\n",
        "from sklearn.metrics import mean_squared_error\n",
        "\n",
        "# Load the cleaned data from the SQLite database\n",
        "conn_cleaned = sqlite3.connect('retail_data_cleaned.db')\n",
        "df = pd.read_sql_query(\"SELECT * FROM transactions\", conn_cleaned)\n",
        "conn_cleaned.close()\n",
        "df = pd.get_dummies(df, columns=['product_category'], prefix='category')\n",
        "\n",
        "# Select features and target variable\n",
        "features = ['days_since_reference', 'transaction_id', 'total_amount'] # Example\n",
        "target = 'quantity'\n",
        "\n",
        "X = df[features]\n",
        "y = df[target]\n",
        "\n",
        "# Split the data into training and testing sets\n",
        "X_train, X_test, y_train, y_test = train_test_split(X, y, test_size=0.2, random_state=42)\n",
        "\n",
        "# Initialize and train the XGBoost model\n",
        "model = XGBRegressor(objective='reg:squarederror', random_state=42)  # Use appropriate objective function\n",
        "model.fit(X_train, y_train)\n",
        "\n",
        "# Make predictions on the test set\n",
        "y_pred = model.predict(X_test)\n",
        "\n",
        "# Evaluate the model\n",
        "mse = mean_squared_error(y_test, y_pred)\n",
        "rmse = mse**0.5\n",
        "\n",
        "print(f\"Mean Squared Error: {mse}\")\n",
        "print(f\"Root Mean Squared Error: {rmse}\")\n"
      ],
      "metadata": {
        "colab": {
          "base_uri": "https://localhost:8080/",
          "height": 0
        },
        "id": "8icNzLixuros",
        "outputId": "8b2e5917-eb7a-4299-af4b-8be6a58a0e2f"
      },
      "execution_count": 92,
      "outputs": [
        {
          "output_type": "stream",
          "name": "stdout",
          "text": [
            "Requirement already satisfied: xgboost in /usr/local/lib/python3.11/dist-packages (2.1.4)\n",
            "Requirement already satisfied: numpy in /usr/local/lib/python3.11/dist-packages (from xgboost) (1.26.4)\n",
            "Requirement already satisfied: nvidia-nccl-cu12 in /usr/local/lib/python3.11/dist-packages (from xgboost) (2.21.5)\n",
            "Requirement already satisfied: scipy in /usr/local/lib/python3.11/dist-packages (from xgboost) (1.14.1)\n",
            "Mean Squared Error: 0.24206844850562317\n",
            "Root Mean Squared Error: 0.49200452081827784\n"
          ]
        }
      ]
    },
    {
      "cell_type": "code",
      "source": [
        "import matplotlib.pyplot as plt\n",
        "importances = model.feature_importances_\n",
        "feature_names = X_train.columns\n",
        "# Create a DataFrame for feature importances\n",
        "feature_importances = pd.DataFrame({'Feature': feature_names, 'Importance': importances})\n",
        "feature_importances = feature_importances.sort_values(by='Importance', ascending=False)\n",
        "# Plot feature importances\n",
        "plt.figure(figsize=(10, 6))\n",
        "plt.barh(feature_importances['Feature'], feature_importances['Importance'])\n",
        "plt.xlabel('Importance')\n",
        "plt.ylabel('Feature')\n",
        "plt.title('Feature Importances from XGBoost')\n",
        "plt.show()\n",
        "plt.figure(figsize=(10, 6))\n",
        "plt.scatter(y_test, y_pred)\n",
        "plt.xlabel(\"Actual Sales\")\n",
        "plt.ylabel(\"Predicted Sales\")\n",
        "plt.title(\"Actual vs. Predicted Sales (XGBoost)\")\n",
        "plt.plot([min(y_test), max(y_test)], [min(y_test), max(y_test)], color='red')  # Add a diagonal line for reference\n",
        "plt.show()\n"
      ],
      "metadata": {
        "colab": {
          "base_uri": "https://localhost:8080/",
          "height": 1111
        },
        "id": "NspsrOGvxPez",
        "outputId": "921330c5-cccb-4ba4-e68e-1d0f7ac4270c"
      },
      "execution_count": 93,
      "outputs": [
        {
          "output_type": "display_data",
          "data": {
            "text/plain": [
              "<Figure size 1000x600 with 1 Axes>"
            ],
            "image/png": "[encoded data removed]"
          },
          "metadata": {}
        },
        {
          "output_type": "display_data",
          "data": {
            "text/plain": [
              "<Figure size 1000x600 with 1 Axes>"
            ],
            "image/png": "[encoded data removed]"
          },
          "metadata": {}
        }
      ]
    },
    {
      "cell_type": "markdown",
      "source": [
        "Final Summary\n",
        "Data Ingested from CSV, JSON, and Text files.\n",
        "Stored in a Local Data Lake (simulated).\n",
        "Transformed & Normalized into structured format.\n",
        "Loaded into SQLite for SQL Queries.\n",
        "Performed Analytics & Predictions using SQL and Machine Learning.\n",
        "This completes my Retail Data Pipeline assesment from SBInfowaves using Python and SQL"
      ],
      "metadata": {
        "id": "2qiwdwKoumAb"
      }
    }
  ]
}